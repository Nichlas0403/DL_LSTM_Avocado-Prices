{
  "nbformat": 4,
  "nbformat_minor": 0,
  "metadata": {
    "colab": {
      "name": "LSTM - Avocado price.ipynb",
      "provenance": [],
      "toc_visible": true,
      "mount_file_id": "1IfrDgoNrdCm9gh6IQs0FJixdTLUl2FBO",
      "authorship_tag": "ABX9TyOd01gZQaT6mAv4MRJ7Dr4w",
      "include_colab_link": true
    },
    "kernelspec": {
      "name": "python3",
      "display_name": "Python 3"
    },
    "language_info": {
      "name": "python"
    }
  },
  "cells": [
    {
      "cell_type": "markdown",
      "metadata": {
        "id": "view-in-github",
        "colab_type": "text"
      },
      "source": [
        "<a href=\"https://colab.research.google.com/github/Nichlas0403/DL_LSTM_Avocado-Prices/blob/main/LSTM_Avocado_price.ipynb\" target=\"_parent\"><img src=\"https://colab.research.google.com/assets/colab-badge.svg\" alt=\"Open In Colab\"/></a>"
      ]
    },
    {
      "cell_type": "markdown",
      "metadata": {
        "id": "TmDQjYYs6Ll-"
      },
      "source": [
        "#Recap of this notebook\n",
        "\n",
        "**Goal**<br>\n",
        "This notebook attemps to create a recurrent neural network using long short-term memory layers to predict the price of avocados.\n",
        "\n",
        "**Data**<br>\n",
        "The data has been provided by kaggle: <br> https://www.kaggle.com/neuromusic/avocado-prices\n",
        "\n",
        "**Features (taken from kaggle)**\n",
        "\n",
        "Some relevant columns in the dataset:\n",
        "\n",
        "* Date - The date of the observation<br>\n",
        "* AveragePrice - the average price of a single avocado<br>\n",
        "* type - conventional or organic<br>\n",
        "* year - the year<br>\n",
        "* Region - the city or region of the observation<br>\n",
        "* Total Volume - Total number of avocados sold<br>\n",
        "* 4046 - Total number of avocados with PLU 4046 sold<br>\n",
        "* 4225 - Total number of avocados with PLU 4225 sold<br>\n",
        "* 4770 - Total number of avocados with PLU 4770 sold<br>"
      ]
    },
    {
      "cell_type": "markdown",
      "metadata": {
        "id": "DM0qZSR87AxF"
      },
      "source": [
        "#Preparation\n"
      ]
    },
    {
      "cell_type": "code",
      "metadata": {
        "id": "4Qvb6euG7DOK"
      },
      "source": [
        "#Import tools\n",
        "import numpy as np\n",
        "import pandas as pd\n",
        "import matplotlib.pyplot as plt\n",
        "%matplotlib inline\n",
        "import tensorflow as tf\n",
        "import tensorflow.keras\n",
        "import joblib"
      ],
      "execution_count": 128,
      "outputs": []
    },
    {
      "cell_type": "code",
      "metadata": {
        "colab": {
          "base_uri": "https://localhost:8080/",
          "height": 194
        },
        "id": "iw_0WoEV7LBX",
        "outputId": "64a65a7d-6e24-47f7-dbe5-181b5db86524"
      },
      "source": [
        "#Import data\n",
        "\n",
        "df = pd.read_csv(\"/content/drive/MyDrive/Data Science, Machine Learning/Colab Notebooks/Deep Learning Projects/Recurrent Neural Networks/LSTM - Avocado price/avocado.csv\",\n",
        "                  parse_dates=[\"Date\"],\n",
        "                  dayfirst=True) #covnert Date-column to datetime-datatype\n",
        "df.head()"
      ],
      "execution_count": 129,
      "outputs": [
        {
          "output_type": "execute_result",
          "data": {
            "text/html": [
              "<div>\n",
              "<style scoped>\n",
              "    .dataframe tbody tr th:only-of-type {\n",
              "        vertical-align: middle;\n",
              "    }\n",
              "\n",
              "    .dataframe tbody tr th {\n",
              "        vertical-align: top;\n",
              "    }\n",
              "\n",
              "    .dataframe thead th {\n",
              "        text-align: right;\n",
              "    }\n",
              "</style>\n",
              "<table border=\"1\" class=\"dataframe\">\n",
              "  <thead>\n",
              "    <tr style=\"text-align: right;\">\n",
              "      <th></th>\n",
              "      <th>Unnamed: 0</th>\n",
              "      <th>Date</th>\n",
              "      <th>AveragePrice</th>\n",
              "      <th>Total Volume</th>\n",
              "      <th>4046</th>\n",
              "      <th>4225</th>\n",
              "      <th>4770</th>\n",
              "      <th>Total Bags</th>\n",
              "      <th>Small Bags</th>\n",
              "      <th>Large Bags</th>\n",
              "      <th>XLarge Bags</th>\n",
              "      <th>type</th>\n",
              "      <th>year</th>\n",
              "      <th>region</th>\n",
              "    </tr>\n",
              "  </thead>\n",
              "  <tbody>\n",
              "    <tr>\n",
              "      <th>0</th>\n",
              "      <td>0</td>\n",
              "      <td>2015-12-27</td>\n",
              "      <td>1.33</td>\n",
              "      <td>64236.62</td>\n",
              "      <td>1036.74</td>\n",
              "      <td>54454.85</td>\n",
              "      <td>48.16</td>\n",
              "      <td>8696.87</td>\n",
              "      <td>8603.62</td>\n",
              "      <td>93.25</td>\n",
              "      <td>0.0</td>\n",
              "      <td>conventional</td>\n",
              "      <td>2015</td>\n",
              "      <td>Albany</td>\n",
              "    </tr>\n",
              "    <tr>\n",
              "      <th>1</th>\n",
              "      <td>1</td>\n",
              "      <td>2015-12-20</td>\n",
              "      <td>1.35</td>\n",
              "      <td>54876.98</td>\n",
              "      <td>674.28</td>\n",
              "      <td>44638.81</td>\n",
              "      <td>58.33</td>\n",
              "      <td>9505.56</td>\n",
              "      <td>9408.07</td>\n",
              "      <td>97.49</td>\n",
              "      <td>0.0</td>\n",
              "      <td>conventional</td>\n",
              "      <td>2015</td>\n",
              "      <td>Albany</td>\n",
              "    </tr>\n",
              "    <tr>\n",
              "      <th>2</th>\n",
              "      <td>2</td>\n",
              "      <td>2015-12-13</td>\n",
              "      <td>0.93</td>\n",
              "      <td>118220.22</td>\n",
              "      <td>794.70</td>\n",
              "      <td>109149.67</td>\n",
              "      <td>130.50</td>\n",
              "      <td>8145.35</td>\n",
              "      <td>8042.21</td>\n",
              "      <td>103.14</td>\n",
              "      <td>0.0</td>\n",
              "      <td>conventional</td>\n",
              "      <td>2015</td>\n",
              "      <td>Albany</td>\n",
              "    </tr>\n",
              "    <tr>\n",
              "      <th>3</th>\n",
              "      <td>3</td>\n",
              "      <td>2015-12-06</td>\n",
              "      <td>1.08</td>\n",
              "      <td>78992.15</td>\n",
              "      <td>1132.00</td>\n",
              "      <td>71976.41</td>\n",
              "      <td>72.58</td>\n",
              "      <td>5811.16</td>\n",
              "      <td>5677.40</td>\n",
              "      <td>133.76</td>\n",
              "      <td>0.0</td>\n",
              "      <td>conventional</td>\n",
              "      <td>2015</td>\n",
              "      <td>Albany</td>\n",
              "    </tr>\n",
              "    <tr>\n",
              "      <th>4</th>\n",
              "      <td>4</td>\n",
              "      <td>2015-11-29</td>\n",
              "      <td>1.28</td>\n",
              "      <td>51039.60</td>\n",
              "      <td>941.48</td>\n",
              "      <td>43838.39</td>\n",
              "      <td>75.78</td>\n",
              "      <td>6183.95</td>\n",
              "      <td>5986.26</td>\n",
              "      <td>197.69</td>\n",
              "      <td>0.0</td>\n",
              "      <td>conventional</td>\n",
              "      <td>2015</td>\n",
              "      <td>Albany</td>\n",
              "    </tr>\n",
              "  </tbody>\n",
              "</table>\n",
              "</div>"
            ],
            "text/plain": [
              "   Unnamed: 0       Date  AveragePrice  ...          type  year  region\n",
              "0           0 2015-12-27          1.33  ...  conventional  2015  Albany\n",
              "1           1 2015-12-20          1.35  ...  conventional  2015  Albany\n",
              "2           2 2015-12-13          0.93  ...  conventional  2015  Albany\n",
              "3           3 2015-12-06          1.08  ...  conventional  2015  Albany\n",
              "4           4 2015-11-29          1.28  ...  conventional  2015  Albany\n",
              "\n",
              "[5 rows x 14 columns]"
            ]
          },
          "metadata": {
            "tags": []
          },
          "execution_count": 129
        }
      ]
    },
    {
      "cell_type": "code",
      "metadata": {
        "colab": {
          "base_uri": "https://localhost:8080/",
          "height": 194
        },
        "id": "QNbi9M0fwGmU",
        "outputId": "0169b667-bf66-49b5-c7dc-76a073fe64d6"
      },
      "source": [
        "#Remove second index-column\n",
        "df = df.drop(\"Unnamed: 0\", axis=1)\n",
        "df.sort_values(\"Date\")\n",
        "df.head()"
      ],
      "execution_count": 130,
      "outputs": [
        {
          "output_type": "execute_result",
          "data": {
            "text/html": [
              "<div>\n",
              "<style scoped>\n",
              "    .dataframe tbody tr th:only-of-type {\n",
              "        vertical-align: middle;\n",
              "    }\n",
              "\n",
              "    .dataframe tbody tr th {\n",
              "        vertical-align: top;\n",
              "    }\n",
              "\n",
              "    .dataframe thead th {\n",
              "        text-align: right;\n",
              "    }\n",
              "</style>\n",
              "<table border=\"1\" class=\"dataframe\">\n",
              "  <thead>\n",
              "    <tr style=\"text-align: right;\">\n",
              "      <th></th>\n",
              "      <th>Date</th>\n",
              "      <th>AveragePrice</th>\n",
              "      <th>Total Volume</th>\n",
              "      <th>4046</th>\n",
              "      <th>4225</th>\n",
              "      <th>4770</th>\n",
              "      <th>Total Bags</th>\n",
              "      <th>Small Bags</th>\n",
              "      <th>Large Bags</th>\n",
              "      <th>XLarge Bags</th>\n",
              "      <th>type</th>\n",
              "      <th>year</th>\n",
              "      <th>region</th>\n",
              "    </tr>\n",
              "  </thead>\n",
              "  <tbody>\n",
              "    <tr>\n",
              "      <th>0</th>\n",
              "      <td>2015-12-27</td>\n",
              "      <td>1.33</td>\n",
              "      <td>64236.62</td>\n",
              "      <td>1036.74</td>\n",
              "      <td>54454.85</td>\n",
              "      <td>48.16</td>\n",
              "      <td>8696.87</td>\n",
              "      <td>8603.62</td>\n",
              "      <td>93.25</td>\n",
              "      <td>0.0</td>\n",
              "      <td>conventional</td>\n",
              "      <td>2015</td>\n",
              "      <td>Albany</td>\n",
              "    </tr>\n",
              "    <tr>\n",
              "      <th>1</th>\n",
              "      <td>2015-12-20</td>\n",
              "      <td>1.35</td>\n",
              "      <td>54876.98</td>\n",
              "      <td>674.28</td>\n",
              "      <td>44638.81</td>\n",
              "      <td>58.33</td>\n",
              "      <td>9505.56</td>\n",
              "      <td>9408.07</td>\n",
              "      <td>97.49</td>\n",
              "      <td>0.0</td>\n",
              "      <td>conventional</td>\n",
              "      <td>2015</td>\n",
              "      <td>Albany</td>\n",
              "    </tr>\n",
              "    <tr>\n",
              "      <th>2</th>\n",
              "      <td>2015-12-13</td>\n",
              "      <td>0.93</td>\n",
              "      <td>118220.22</td>\n",
              "      <td>794.70</td>\n",
              "      <td>109149.67</td>\n",
              "      <td>130.50</td>\n",
              "      <td>8145.35</td>\n",
              "      <td>8042.21</td>\n",
              "      <td>103.14</td>\n",
              "      <td>0.0</td>\n",
              "      <td>conventional</td>\n",
              "      <td>2015</td>\n",
              "      <td>Albany</td>\n",
              "    </tr>\n",
              "    <tr>\n",
              "      <th>3</th>\n",
              "      <td>2015-12-06</td>\n",
              "      <td>1.08</td>\n",
              "      <td>78992.15</td>\n",
              "      <td>1132.00</td>\n",
              "      <td>71976.41</td>\n",
              "      <td>72.58</td>\n",
              "      <td>5811.16</td>\n",
              "      <td>5677.40</td>\n",
              "      <td>133.76</td>\n",
              "      <td>0.0</td>\n",
              "      <td>conventional</td>\n",
              "      <td>2015</td>\n",
              "      <td>Albany</td>\n",
              "    </tr>\n",
              "    <tr>\n",
              "      <th>4</th>\n",
              "      <td>2015-11-29</td>\n",
              "      <td>1.28</td>\n",
              "      <td>51039.60</td>\n",
              "      <td>941.48</td>\n",
              "      <td>43838.39</td>\n",
              "      <td>75.78</td>\n",
              "      <td>6183.95</td>\n",
              "      <td>5986.26</td>\n",
              "      <td>197.69</td>\n",
              "      <td>0.0</td>\n",
              "      <td>conventional</td>\n",
              "      <td>2015</td>\n",
              "      <td>Albany</td>\n",
              "    </tr>\n",
              "  </tbody>\n",
              "</table>\n",
              "</div>"
            ],
            "text/plain": [
              "        Date  AveragePrice  Total Volume  ...          type  year  region\n",
              "0 2015-12-27          1.33      64236.62  ...  conventional  2015  Albany\n",
              "1 2015-12-20          1.35      54876.98  ...  conventional  2015  Albany\n",
              "2 2015-12-13          0.93     118220.22  ...  conventional  2015  Albany\n",
              "3 2015-12-06          1.08      78992.15  ...  conventional  2015  Albany\n",
              "4 2015-11-29          1.28      51039.60  ...  conventional  2015  Albany\n",
              "\n",
              "[5 rows x 13 columns]"
            ]
          },
          "metadata": {
            "tags": []
          },
          "execution_count": 130
        }
      ]
    },
    {
      "cell_type": "code",
      "metadata": {
        "colab": {
          "base_uri": "https://localhost:8080/"
        },
        "id": "EbJRGmrf76uB",
        "outputId": "562bdc9f-05f7-490c-cdd1-85034c8da3d4"
      },
      "source": [
        "df.info()"
      ],
      "execution_count": 131,
      "outputs": [
        {
          "output_type": "stream",
          "text": [
            "<class 'pandas.core.frame.DataFrame'>\n",
            "RangeIndex: 18249 entries, 0 to 18248\n",
            "Data columns (total 13 columns):\n",
            " #   Column        Non-Null Count  Dtype         \n",
            "---  ------        --------------  -----         \n",
            " 0   Date          18249 non-null  datetime64[ns]\n",
            " 1   AveragePrice  18249 non-null  float64       \n",
            " 2   Total Volume  18249 non-null  float64       \n",
            " 3   4046          18249 non-null  float64       \n",
            " 4   4225          18249 non-null  float64       \n",
            " 5   4770          18249 non-null  float64       \n",
            " 6   Total Bags    18249 non-null  float64       \n",
            " 7   Small Bags    18249 non-null  float64       \n",
            " 8   Large Bags    18249 non-null  float64       \n",
            " 9   XLarge Bags   18249 non-null  float64       \n",
            " 10  type          18249 non-null  object        \n",
            " 11  year          18249 non-null  int64         \n",
            " 12  region        18249 non-null  object        \n",
            "dtypes: datetime64[ns](1), float64(9), int64(1), object(2)\n",
            "memory usage: 1.8+ MB\n"
          ],
          "name": "stdout"
        }
      ]
    },
    {
      "cell_type": "code",
      "metadata": {
        "colab": {
          "base_uri": "https://localhost:8080/",
          "height": 194
        },
        "id": "zN0_Vi5jhLMY",
        "outputId": "b6a23350-ddac-4213-8b9e-88f80eba3dc1"
      },
      "source": [
        "df.head()"
      ],
      "execution_count": 34,
      "outputs": [
        {
          "output_type": "execute_result",
          "data": {
            "text/html": [
              "<div>\n",
              "<style scoped>\n",
              "    .dataframe tbody tr th:only-of-type {\n",
              "        vertical-align: middle;\n",
              "    }\n",
              "\n",
              "    .dataframe tbody tr th {\n",
              "        vertical-align: top;\n",
              "    }\n",
              "\n",
              "    .dataframe thead th {\n",
              "        text-align: right;\n",
              "    }\n",
              "</style>\n",
              "<table border=\"1\" class=\"dataframe\">\n",
              "  <thead>\n",
              "    <tr style=\"text-align: right;\">\n",
              "      <th></th>\n",
              "      <th>Date</th>\n",
              "      <th>AveragePrice</th>\n",
              "      <th>Total Volume</th>\n",
              "      <th>4046</th>\n",
              "      <th>4225</th>\n",
              "      <th>4770</th>\n",
              "      <th>Total Bags</th>\n",
              "      <th>Small Bags</th>\n",
              "      <th>Large Bags</th>\n",
              "      <th>XLarge Bags</th>\n",
              "      <th>type</th>\n",
              "      <th>year</th>\n",
              "      <th>region</th>\n",
              "    </tr>\n",
              "  </thead>\n",
              "  <tbody>\n",
              "    <tr>\n",
              "      <th>0</th>\n",
              "      <td>2015-12-27</td>\n",
              "      <td>1.33</td>\n",
              "      <td>64236.62</td>\n",
              "      <td>1036.74</td>\n",
              "      <td>54454.85</td>\n",
              "      <td>48.16</td>\n",
              "      <td>8696.87</td>\n",
              "      <td>8603.62</td>\n",
              "      <td>93.25</td>\n",
              "      <td>0.0</td>\n",
              "      <td>conventional</td>\n",
              "      <td>2015</td>\n",
              "      <td>Albany</td>\n",
              "    </tr>\n",
              "    <tr>\n",
              "      <th>1</th>\n",
              "      <td>2015-12-20</td>\n",
              "      <td>1.35</td>\n",
              "      <td>54876.98</td>\n",
              "      <td>674.28</td>\n",
              "      <td>44638.81</td>\n",
              "      <td>58.33</td>\n",
              "      <td>9505.56</td>\n",
              "      <td>9408.07</td>\n",
              "      <td>97.49</td>\n",
              "      <td>0.0</td>\n",
              "      <td>conventional</td>\n",
              "      <td>2015</td>\n",
              "      <td>Albany</td>\n",
              "    </tr>\n",
              "    <tr>\n",
              "      <th>2</th>\n",
              "      <td>2015-12-13</td>\n",
              "      <td>0.93</td>\n",
              "      <td>118220.22</td>\n",
              "      <td>794.70</td>\n",
              "      <td>109149.67</td>\n",
              "      <td>130.50</td>\n",
              "      <td>8145.35</td>\n",
              "      <td>8042.21</td>\n",
              "      <td>103.14</td>\n",
              "      <td>0.0</td>\n",
              "      <td>conventional</td>\n",
              "      <td>2015</td>\n",
              "      <td>Albany</td>\n",
              "    </tr>\n",
              "    <tr>\n",
              "      <th>3</th>\n",
              "      <td>2015-12-06</td>\n",
              "      <td>1.08</td>\n",
              "      <td>78992.15</td>\n",
              "      <td>1132.00</td>\n",
              "      <td>71976.41</td>\n",
              "      <td>72.58</td>\n",
              "      <td>5811.16</td>\n",
              "      <td>5677.40</td>\n",
              "      <td>133.76</td>\n",
              "      <td>0.0</td>\n",
              "      <td>conventional</td>\n",
              "      <td>2015</td>\n",
              "      <td>Albany</td>\n",
              "    </tr>\n",
              "    <tr>\n",
              "      <th>4</th>\n",
              "      <td>2015-11-29</td>\n",
              "      <td>1.28</td>\n",
              "      <td>51039.60</td>\n",
              "      <td>941.48</td>\n",
              "      <td>43838.39</td>\n",
              "      <td>75.78</td>\n",
              "      <td>6183.95</td>\n",
              "      <td>5986.26</td>\n",
              "      <td>197.69</td>\n",
              "      <td>0.0</td>\n",
              "      <td>conventional</td>\n",
              "      <td>2015</td>\n",
              "      <td>Albany</td>\n",
              "    </tr>\n",
              "  </tbody>\n",
              "</table>\n",
              "</div>"
            ],
            "text/plain": [
              "        Date  AveragePrice  Total Volume  ...          type  year  region\n",
              "0 2015-12-27          1.33      64236.62  ...  conventional  2015  Albany\n",
              "1 2015-12-20          1.35      54876.98  ...  conventional  2015  Albany\n",
              "2 2015-12-13          0.93     118220.22  ...  conventional  2015  Albany\n",
              "3 2015-12-06          1.08      78992.15  ...  conventional  2015  Albany\n",
              "4 2015-11-29          1.28      51039.60  ...  conventional  2015  Albany\n",
              "\n",
              "[5 rows x 13 columns]"
            ]
          },
          "metadata": {
            "tags": []
          },
          "execution_count": 34
        }
      ]
    },
    {
      "cell_type": "code",
      "metadata": {
        "colab": {
          "base_uri": "https://localhost:8080/"
        },
        "id": "L4xPObvtLQip",
        "outputId": "fbe0a8de-e392-4c1b-cef5-d45f28d69783"
      },
      "source": [
        "print(f\"Earliest date: \")\n",
        "print(df[\"Date\"].min())\n",
        "print(f\"Latest date: \")\n",
        "print(df[\"Date\"].max())"
      ],
      "execution_count": 35,
      "outputs": [
        {
          "output_type": "stream",
          "text": [
            "Earliest date: \n",
            "2015-01-04 00:00:00\n",
            "Latest date: \n",
            "2018-03-25 00:00:00\n"
          ],
          "name": "stdout"
        }
      ]
    },
    {
      "cell_type": "markdown",
      "metadata": {
        "id": "VosC9S_r8Vle"
      },
      "source": [
        "#DEA"
      ]
    },
    {
      "cell_type": "markdown",
      "metadata": {
        "id": "WmhjnBUxKkmK"
      },
      "source": [
        "##Plot AveragePrice over Date"
      ]
    },
    {
      "cell_type": "code",
      "metadata": {
        "id": "4MexRPyxjURD",
        "colab": {
          "base_uri": "https://localhost:8080/",
          "height": 265
        },
        "outputId": "4d1126a8-3d94-4cb2-de72-f794616a8c25"
      },
      "source": [
        "#Foreach year, get the average price\n",
        "y = df.groupby(df[\"Date\"].dt.year)['AveragePrice'].transform('mean').unique()\n",
        "\n",
        "#Get unique years from df\n",
        "x = df[\"Date\"].dt.year.unique()\n",
        "\n",
        "plt.plot(x,y);"
      ],
      "execution_count": 36,
      "outputs": [
        {
          "output_type": "display_data",
          "data": {
            "image/png": "[encoded data removed]",
            "text/plain": [
              "<Figure size 432x288 with 1 Axes>"
            ]
          },
          "metadata": {
            "tags": [],
            "needs_background": "light"
          }
        }
      ]
    },
    {
      "cell_type": "markdown",
      "metadata": {
        "id": "n-vusO0_lWgA"
      },
      "source": [
        "##Plot volume over Date"
      ]
    },
    {
      "cell_type": "code",
      "metadata": {
        "id": "GfowrCT9ltNF",
        "colab": {
          "base_uri": "https://localhost:8080/",
          "height": 276
        },
        "outputId": "e60a7d33-e745-4c22-8306-13e0ae70f80a"
      },
      "source": [
        "#Foreach year, get the average price\n",
        "y = df.groupby(df[\"Date\"].dt.year)['Total Volume'].transform('mean').unique()\n",
        "\n",
        "#Get unique years from df\n",
        "x = df[\"Date\"].dt.year.unique()\n",
        "\n",
        "plt.plot(x,y);"
      ],
      "execution_count": 37,
      "outputs": [
        {
          "output_type": "display_data",
          "data": {
            "image/png": "[encoded data removed]",
            "text/plain": [
              "<Figure size 432x288 with 1 Axes>"
            ]
          },
          "metadata": {
            "tags": [],
            "needs_background": "light"
          }
        }
      ]
    },
    {
      "cell_type": "markdown",
      "metadata": {
        "id": "WvZZfUBLoIrC"
      },
      "source": [
        "##Type-column"
      ]
    },
    {
      "cell_type": "code",
      "metadata": {
        "id": "u_JabGAAtvll",
        "colab": {
          "base_uri": "https://localhost:8080/",
          "height": 446
        },
        "outputId": "e1b5e34d-7aaa-4e46-b366-c57267ec1a6c"
      },
      "source": [
        "df[\"type\"].value_counts().plot.bar(figsize=(10,6))"
      ],
      "execution_count": 38,
      "outputs": [
        {
          "output_type": "execute_result",
          "data": {
            "text/plain": [
              "<matplotlib.axes._subplots.AxesSubplot at 0x7f0ca9933590>"
            ]
          },
          "metadata": {
            "tags": []
          },
          "execution_count": 38
        },
        {
          "output_type": "display_data",
          "data": {
            "image/png": "[encoded data removed]",
            "text/plain": [
              "<Figure size 720x432 with 1 Axes>"
            ]
          },
          "metadata": {
            "tags": [],
            "needs_background": "light"
          }
        }
      ]
    },
    {
      "cell_type": "markdown",
      "metadata": {
        "id": "XYCjsje1t-S1"
      },
      "source": [
        "##Region-column"
      ]
    },
    {
      "cell_type": "code",
      "metadata": {
        "id": "TqoVUNIPuBZO",
        "colab": {
          "base_uri": "https://localhost:8080/",
          "height": 489
        },
        "outputId": "504cbd04-f60a-4767-c797-097a1205bbef"
      },
      "source": [
        "df[\"region\"].value_counts().plot.bar(figsize=(10,6))"
      ],
      "execution_count": 39,
      "outputs": [
        {
          "output_type": "execute_result",
          "data": {
            "text/plain": [
              "<matplotlib.axes._subplots.AxesSubplot at 0x7f0ca9917dd0>"
            ]
          },
          "metadata": {
            "tags": []
          },
          "execution_count": 39
        },
        {
          "output_type": "display_data",
          "data": {
            "image/png": "[encoded data removed]",
            "text/plain": [
              "<Figure size 720x432 with 1 Axes>"
            ]
          },
          "metadata": {
            "tags": [],
            "needs_background": "light"
          }
        }
      ]
    },
    {
      "cell_type": "markdown",
      "metadata": {
        "id": "dR5q3HO_uCev"
      },
      "source": [
        "#Data preparation\n",
        "\n",
        "What will be done in this section:\n",
        "\n",
        "1. Transfer last 15% of the data to a validation dataframe\n",
        "2. Convert type-column to numerical values\n",
        "3. Convert region-column to numerical values\n",
        "4. Remove year-column since we already have a datetime column\n",
        "5. Normalize X \n",
        "6. Split data into X and y with a timestep of 60"
      ]
    },
    {
      "cell_type": "markdown",
      "metadata": {
        "id": "iVGR1BzA99KB"
      },
      "source": [
        "##Seperate target from features\n",
        "\n",
        "Before training the RNN, the data will be normalized. To make inverse transformation easier later, I will create a scaler both for the target and for the features. Since the data still exists in a dataframe, seperating the data now is the easiest."
      ]
    },
    {
      "cell_type": "code",
      "metadata": {
        "id": "MjPX2G1W-Qa-"
      },
      "source": [
        "target = df[\"AveragePrice\"]\n",
        "df = df.drop(\"AveragePrice\",axis=1)"
      ],
      "execution_count": 132,
      "outputs": []
    },
    {
      "cell_type": "markdown",
      "metadata": {
        "id": "S1ncdIEyiO86"
      },
      "source": [
        "##Convert type-column\n",
        "\n",
        "Since type only contains two different values, I will label encode this column."
      ]
    },
    {
      "cell_type": "code",
      "metadata": {
        "colab": {
          "base_uri": "https://localhost:8080/"
        },
        "id": "LIB2cSoO60Jg",
        "outputId": "623639f1-fc33-4c3f-f13b-fc9759fa71a1"
      },
      "source": [
        "df[\"type\"].unique()"
      ],
      "execution_count": 133,
      "outputs": [
        {
          "output_type": "execute_result",
          "data": {
            "text/plain": [
              "array(['conventional', 'organic'], dtype=object)"
            ]
          },
          "metadata": {
            "tags": []
          },
          "execution_count": 133
        }
      ]
    },
    {
      "cell_type": "code",
      "metadata": {
        "colab": {
          "base_uri": "https://localhost:8080/",
          "height": 36
        },
        "id": "0DDhZaJL7hP9",
        "outputId": "894b891a-42bf-412a-8b9e-45f04ef0e2b6"
      },
      "source": [
        "df[\"type\"][0]"
      ],
      "execution_count": 134,
      "outputs": [
        {
          "output_type": "execute_result",
          "data": {
            "application/vnd.google.colaboratory.intrinsic+json": {
              "type": "string"
            },
            "text/plain": [
              "'conventional'"
            ]
          },
          "metadata": {
            "tags": []
          },
          "execution_count": 134
        }
      ]
    },
    {
      "cell_type": "code",
      "metadata": {
        "colab": {
          "base_uri": "https://localhost:8080/",
          "height": 36
        },
        "id": "ZjLPbiAn7m-3",
        "outputId": "cb3a3902-fb92-40ad-fe1d-108f3d496a71"
      },
      "source": [
        "df[\"type\"][9999]"
      ],
      "execution_count": 135,
      "outputs": [
        {
          "output_type": "execute_result",
          "data": {
            "application/vnd.google.colaboratory.intrinsic+json": {
              "type": "string"
            },
            "text/plain": [
              "'organic'"
            ]
          },
          "metadata": {
            "tags": []
          },
          "execution_count": 135
        }
      ]
    },
    {
      "cell_type": "code",
      "metadata": {
        "id": "wSuqTLpU66Qn"
      },
      "source": [
        "from sklearn.preprocessing import LabelEncoder"
      ],
      "execution_count": 136,
      "outputs": []
    },
    {
      "cell_type": "code",
      "metadata": {
        "id": "I0aTjZBQ7VyA",
        "colab": {
          "base_uri": "https://localhost:8080/"
        },
        "outputId": "cd8afae6-04de-4332-81b1-03f41c63979c"
      },
      "source": [
        "type_encoder = LabelEncoder()\n",
        "df[\"type\"] = type_encoder.fit_transform(df[\"type\"])\n",
        "joblib.dump(type_encoder, \"/content/drive/MyDrive/Data Science, Machine Learning/Colab Notebooks/Deep Learning Projects/Recurrent Neural Networks/LSTM - Avocado price/scalers/type_encoder\", compress=True)"
      ],
      "execution_count": 137,
      "outputs": [
        {
          "output_type": "execute_result",
          "data": {
            "text/plain": [
              "['/content/drive/MyDrive/Data Science, Machine Learning/Colab Notebooks/Deep Learning Projects/Recurrent Neural Networks/LSTM - Avocado price/scalers/type_encoder']"
            ]
          },
          "metadata": {
            "tags": []
          },
          "execution_count": 137
        }
      ]
    },
    {
      "cell_type": "code",
      "metadata": {
        "colab": {
          "base_uri": "https://localhost:8080/"
        },
        "id": "dI85OTMK7rP5",
        "outputId": "46756e4a-e805-4868-a0da-09f8930b9a30"
      },
      "source": [
        "#was \"conventional\" before\n",
        "df[\"type\"][0]"
      ],
      "execution_count": 138,
      "outputs": [
        {
          "output_type": "execute_result",
          "data": {
            "text/plain": [
              "0"
            ]
          },
          "metadata": {
            "tags": []
          },
          "execution_count": 138
        }
      ]
    },
    {
      "cell_type": "code",
      "metadata": {
        "colab": {
          "base_uri": "https://localhost:8080/"
        },
        "id": "lJW-YmY17stR",
        "outputId": "6556c919-358b-43e6-b2d3-08b5660ea371"
      },
      "source": [
        "#was \"organic\" before\n",
        "df[\"type\"][9999]"
      ],
      "execution_count": 139,
      "outputs": [
        {
          "output_type": "execute_result",
          "data": {
            "text/plain": [
              "1"
            ]
          },
          "metadata": {
            "tags": []
          },
          "execution_count": 139
        }
      ]
    },
    {
      "cell_type": "markdown",
      "metadata": {
        "id": "gH0SJUPKARfU"
      },
      "source": [
        "##Convert date into numerical value\n",
        "\n",
        "Since we don't have a time-of-day value on the date, I will convert the Date-values using toordinal()\n",
        "\n",
        "**Note** <br>\n",
        "The dataset has already been sortd by the date."
      ]
    },
    {
      "cell_type": "code",
      "metadata": {
        "id": "13iPp5COAh3S"
      },
      "source": [
        "df[\"Date\"] = df[\"Date\"].apply(lambda x: x.toordinal())"
      ],
      "execution_count": 140,
      "outputs": []
    },
    {
      "cell_type": "code",
      "metadata": {
        "colab": {
          "base_uri": "https://localhost:8080/"
        },
        "id": "16wwhhziBBTz",
        "outputId": "4780e8e2-0569-499d-d7f9-9ad199c01763"
      },
      "source": [
        "df[\"Date\"][0]"
      ],
      "execution_count": 141,
      "outputs": [
        {
          "output_type": "execute_result",
          "data": {
            "text/plain": [
              "735959"
            ]
          },
          "metadata": {
            "tags": []
          },
          "execution_count": 141
        }
      ]
    },
    {
      "cell_type": "code",
      "metadata": {
        "colab": {
          "base_uri": "https://localhost:8080/"
        },
        "id": "oNbMcXGpBD0J",
        "outputId": "a009daff-6219-4bd5-e2a7-b968034a3ad4"
      },
      "source": [
        "df.info()"
      ],
      "execution_count": 142,
      "outputs": [
        {
          "output_type": "stream",
          "text": [
            "<class 'pandas.core.frame.DataFrame'>\n",
            "RangeIndex: 18249 entries, 0 to 18248\n",
            "Data columns (total 12 columns):\n",
            " #   Column        Non-Null Count  Dtype  \n",
            "---  ------        --------------  -----  \n",
            " 0   Date          18249 non-null  int64  \n",
            " 1   Total Volume  18249 non-null  float64\n",
            " 2   4046          18249 non-null  float64\n",
            " 3   4225          18249 non-null  float64\n",
            " 4   4770          18249 non-null  float64\n",
            " 5   Total Bags    18249 non-null  float64\n",
            " 6   Small Bags    18249 non-null  float64\n",
            " 7   Large Bags    18249 non-null  float64\n",
            " 8   XLarge Bags   18249 non-null  float64\n",
            " 9   type          18249 non-null  int64  \n",
            " 10  year          18249 non-null  int64  \n",
            " 11  region        18249 non-null  object \n",
            "dtypes: float64(8), int64(3), object(1)\n",
            "memory usage: 1.7+ MB\n"
          ],
          "name": "stdout"
        }
      ]
    },
    {
      "cell_type": "markdown",
      "metadata": {
        "id": "SrnIxPlf_b9i"
      },
      "source": [
        "##Remove year-column"
      ]
    },
    {
      "cell_type": "code",
      "metadata": {
        "colab": {
          "base_uri": "https://localhost:8080/",
          "height": 194
        },
        "id": "B5SYdoew_d7v",
        "outputId": "1f1e95f8-3ee3-48d0-d39b-611b57349200"
      },
      "source": [
        "df = df.drop(\"year\",axis=1)\n",
        "df.head()"
      ],
      "execution_count": 143,
      "outputs": [
        {
          "output_type": "execute_result",
          "data": {
            "text/html": [
              "<div>\n",
              "<style scoped>\n",
              "    .dataframe tbody tr th:only-of-type {\n",
              "        vertical-align: middle;\n",
              "    }\n",
              "\n",
              "    .dataframe tbody tr th {\n",
              "        vertical-align: top;\n",
              "    }\n",
              "\n",
              "    .dataframe thead th {\n",
              "        text-align: right;\n",
              "    }\n",
              "</style>\n",
              "<table border=\"1\" class=\"dataframe\">\n",
              "  <thead>\n",
              "    <tr style=\"text-align: right;\">\n",
              "      <th></th>\n",
              "      <th>Date</th>\n",
              "      <th>Total Volume</th>\n",
              "      <th>4046</th>\n",
              "      <th>4225</th>\n",
              "      <th>4770</th>\n",
              "      <th>Total Bags</th>\n",
              "      <th>Small Bags</th>\n",
              "      <th>Large Bags</th>\n",
              "      <th>XLarge Bags</th>\n",
              "      <th>type</th>\n",
              "      <th>region</th>\n",
              "    </tr>\n",
              "  </thead>\n",
              "  <tbody>\n",
              "    <tr>\n",
              "      <th>0</th>\n",
              "      <td>735959</td>\n",
              "      <td>64236.62</td>\n",
              "      <td>1036.74</td>\n",
              "      <td>54454.85</td>\n",
              "      <td>48.16</td>\n",
              "      <td>8696.87</td>\n",
              "      <td>8603.62</td>\n",
              "      <td>93.25</td>\n",
              "      <td>0.0</td>\n",
              "      <td>0</td>\n",
              "      <td>Albany</td>\n",
              "    </tr>\n",
              "    <tr>\n",
              "      <th>1</th>\n",
              "      <td>735952</td>\n",
              "      <td>54876.98</td>\n",
              "      <td>674.28</td>\n",
              "      <td>44638.81</td>\n",
              "      <td>58.33</td>\n",
              "      <td>9505.56</td>\n",
              "      <td>9408.07</td>\n",
              "      <td>97.49</td>\n",
              "      <td>0.0</td>\n",
              "      <td>0</td>\n",
              "      <td>Albany</td>\n",
              "    </tr>\n",
              "    <tr>\n",
              "      <th>2</th>\n",
              "      <td>735945</td>\n",
              "      <td>118220.22</td>\n",
              "      <td>794.70</td>\n",
              "      <td>109149.67</td>\n",
              "      <td>130.50</td>\n",
              "      <td>8145.35</td>\n",
              "      <td>8042.21</td>\n",
              "      <td>103.14</td>\n",
              "      <td>0.0</td>\n",
              "      <td>0</td>\n",
              "      <td>Albany</td>\n",
              "    </tr>\n",
              "    <tr>\n",
              "      <th>3</th>\n",
              "      <td>735938</td>\n",
              "      <td>78992.15</td>\n",
              "      <td>1132.00</td>\n",
              "      <td>71976.41</td>\n",
              "      <td>72.58</td>\n",
              "      <td>5811.16</td>\n",
              "      <td>5677.40</td>\n",
              "      <td>133.76</td>\n",
              "      <td>0.0</td>\n",
              "      <td>0</td>\n",
              "      <td>Albany</td>\n",
              "    </tr>\n",
              "    <tr>\n",
              "      <th>4</th>\n",
              "      <td>735931</td>\n",
              "      <td>51039.60</td>\n",
              "      <td>941.48</td>\n",
              "      <td>43838.39</td>\n",
              "      <td>75.78</td>\n",
              "      <td>6183.95</td>\n",
              "      <td>5986.26</td>\n",
              "      <td>197.69</td>\n",
              "      <td>0.0</td>\n",
              "      <td>0</td>\n",
              "      <td>Albany</td>\n",
              "    </tr>\n",
              "  </tbody>\n",
              "</table>\n",
              "</div>"
            ],
            "text/plain": [
              "     Date  Total Volume     4046  ...  XLarge Bags  type  region\n",
              "0  735959      64236.62  1036.74  ...          0.0     0  Albany\n",
              "1  735952      54876.98   674.28  ...          0.0     0  Albany\n",
              "2  735945     118220.22   794.70  ...          0.0     0  Albany\n",
              "3  735938      78992.15  1132.00  ...          0.0     0  Albany\n",
              "4  735931      51039.60   941.48  ...          0.0     0  Albany\n",
              "\n",
              "[5 rows x 11 columns]"
            ]
          },
          "metadata": {
            "tags": []
          },
          "execution_count": 143
        }
      ]
    },
    {
      "cell_type": "markdown",
      "metadata": {
        "id": "68KppShS7tqH"
      },
      "source": [
        "##Convert region-column\n",
        "\n",
        "The region-columns holds 54 different values. Since they are all well-represented in the dataset, I will do a onehot encoding which means I will convert this one column into 54 new columns. If some of these values wasn't well represented in the dataset, I would most likely have mapped those values to a \"other\"-value, as they wouldn't hold much statistical power anyways."
      ]
    },
    {
      "cell_type": "code",
      "metadata": {
        "colab": {
          "base_uri": "https://localhost:8080/"
        },
        "id": "XlYudpWQ8sAN",
        "outputId": "4c65f06a-452c-4d14-9045-9a7bca6c2b41"
      },
      "source": [
        "df[\"region\"].unique()"
      ],
      "execution_count": 144,
      "outputs": [
        {
          "output_type": "execute_result",
          "data": {
            "text/plain": [
              "array(['Albany', 'Atlanta', 'BaltimoreWashington', 'Boise', 'Boston',\n",
              "       'BuffaloRochester', 'California', 'Charlotte', 'Chicago',\n",
              "       'CincinnatiDayton', 'Columbus', 'DallasFtWorth', 'Denver',\n",
              "       'Detroit', 'GrandRapids', 'GreatLakes', 'HarrisburgScranton',\n",
              "       'HartfordSpringfield', 'Houston', 'Indianapolis', 'Jacksonville',\n",
              "       'LasVegas', 'LosAngeles', 'Louisville', 'MiamiFtLauderdale',\n",
              "       'Midsouth', 'Nashville', 'NewOrleansMobile', 'NewYork',\n",
              "       'Northeast', 'NorthernNewEngland', 'Orlando', 'Philadelphia',\n",
              "       'PhoenixTucson', 'Pittsburgh', 'Plains', 'Portland',\n",
              "       'RaleighGreensboro', 'RichmondNorfolk', 'Roanoke', 'Sacramento',\n",
              "       'SanDiego', 'SanFrancisco', 'Seattle', 'SouthCarolina',\n",
              "       'SouthCentral', 'Southeast', 'Spokane', 'StLouis', 'Syracuse',\n",
              "       'Tampa', 'TotalUS', 'West', 'WestTexNewMexico'], dtype=object)"
            ]
          },
          "metadata": {
            "tags": []
          },
          "execution_count": 144
        }
      ]
    },
    {
      "cell_type": "code",
      "metadata": {
        "colab": {
          "base_uri": "https://localhost:8080/"
        },
        "id": "oNy69JcK722a",
        "outputId": "d0d3630a-a7e6-4ec8-e4bd-e016a2c15cef"
      },
      "source": [
        "len(df[\"region\"].unique())"
      ],
      "execution_count": 145,
      "outputs": [
        {
          "output_type": "execute_result",
          "data": {
            "text/plain": [
              "54"
            ]
          },
          "metadata": {
            "tags": []
          },
          "execution_count": 145
        }
      ]
    },
    {
      "cell_type": "code",
      "metadata": {
        "id": "BT-CiyDD9H7t"
      },
      "source": [
        "from sklearn.preprocessing import OneHotEncoder\n",
        "from sklearn.compose import ColumnTransformer"
      ],
      "execution_count": 146,
      "outputs": []
    },
    {
      "cell_type": "code",
      "metadata": {
        "id": "VZ-BghZZOmj_"
      },
      "source": [
        "#convert region-values to categorical\n",
        "df[\"region\"] = df[\"region\"].astype(\"category\")"
      ],
      "execution_count": 147,
      "outputs": []
    },
    {
      "cell_type": "code",
      "metadata": {
        "colab": {
          "base_uri": "https://localhost:8080/"
        },
        "id": "D81uqs5pPkbB",
        "outputId": "6703e3cd-0612-4172-cb79-e650986ebb44"
      },
      "source": [
        "#convert df into numpy array\n",
        "df_array = np.array(df)\n",
        "df_array[0]"
      ],
      "execution_count": 148,
      "outputs": [
        {
          "output_type": "execute_result",
          "data": {
            "text/plain": [
              "array([735959, 64236.62, 1036.74, 54454.85, 48.16, 8696.87, 8603.62,\n",
              "       93.25, 0.0, 0, 'Albany'], dtype=object)"
            ]
          },
          "metadata": {
            "tags": []
          },
          "execution_count": 148
        }
      ]
    },
    {
      "cell_type": "code",
      "metadata": {
        "id": "cjmn2QZ4RVT2",
        "colab": {
          "base_uri": "https://localhost:8080/"
        },
        "outputId": "534bad6a-7649-42e9-ebba-0ccfd0ed7166"
      },
      "source": [
        "region_transformer = ColumnTransformer(transformers=[(\"encoder\",OneHotEncoder(sparse=False), [10])], remainder=\"passthrough\")\n",
        "df_array = region_transformer.fit_transform(df_array)\n",
        "joblib.dump(region_transformer, \"/content/drive/MyDrive/Data Science, Machine Learning/Colab Notebooks/Deep Learning Projects/Recurrent Neural Networks/LSTM - Avocado price/scalers/region_transformer\", compress=True)"
      ],
      "execution_count": 149,
      "outputs": [
        {
          "output_type": "execute_result",
          "data": {
            "text/plain": [
              "['/content/drive/MyDrive/Data Science, Machine Learning/Colab Notebooks/Deep Learning Projects/Recurrent Neural Networks/LSTM - Avocado price/scalers/region_transformer']"
            ]
          },
          "metadata": {
            "tags": []
          },
          "execution_count": 149
        }
      ]
    },
    {
      "cell_type": "code",
      "metadata": {
        "colab": {
          "base_uri": "https://localhost:8080/"
        },
        "id": "CZInN1ROR88A",
        "outputId": "dcd08915-b9f7-4663-ca16-d9d79a9a65cf"
      },
      "source": [
        "df_array[0]"
      ],
      "execution_count": 150,
      "outputs": [
        {
          "output_type": "execute_result",
          "data": {
            "text/plain": [
              "array([1.0, 0.0, 0.0, 0.0, 0.0, 0.0, 0.0, 0.0, 0.0, 0.0, 0.0, 0.0, 0.0,\n",
              "       0.0, 0.0, 0.0, 0.0, 0.0, 0.0, 0.0, 0.0, 0.0, 0.0, 0.0, 0.0, 0.0,\n",
              "       0.0, 0.0, 0.0, 0.0, 0.0, 0.0, 0.0, 0.0, 0.0, 0.0, 0.0, 0.0, 0.0,\n",
              "       0.0, 0.0, 0.0, 0.0, 0.0, 0.0, 0.0, 0.0, 0.0, 0.0, 0.0, 0.0, 0.0,\n",
              "       0.0, 0.0, 735959, 64236.62, 1036.74, 54454.85, 48.16, 8696.87,\n",
              "       8603.62, 93.25, 0.0, 0], dtype=object)"
            ]
          },
          "metadata": {
            "tags": []
          },
          "execution_count": 150
        }
      ]
    },
    {
      "cell_type": "markdown",
      "metadata": {
        "id": "xQ2cO8IdXaXD"
      },
      "source": [
        "##Normalize data\n",
        "\n",
        "Two scalers MinMaxScalers will be created:\n",
        "1. One for the target column - this will make inverse transformation easier.\n",
        "2. One for the rest of the features."
      ]
    },
    {
      "cell_type": "code",
      "metadata": {
        "id": "7IAJZ5xeXsCF"
      },
      "source": [
        "from sklearn.preprocessing import MinMaxScaler"
      ],
      "execution_count": 151,
      "outputs": []
    },
    {
      "cell_type": "code",
      "metadata": {
        "id": "pp31WJz39WsZ"
      },
      "source": [
        "feature_scaler = MinMaxScaler(feature_range=(-1,1))\n",
        "target_scaler = MinMaxScaler(feature_range=(-1,1))"
      ],
      "execution_count": 152,
      "outputs": []
    },
    {
      "cell_type": "code",
      "metadata": {
        "colab": {
          "base_uri": "https://localhost:8080/"
        },
        "id": "-7gjUF9c-ppf",
        "outputId": "2f17ca99-80f7-4b29-f820-c04aae5faf1d"
      },
      "source": [
        "df_array = feature_scaler.fit_transform(df_array)\n",
        "joblib.dump(feature_scaler, \"/content/drive/MyDrive/Data Science, Machine Learning/Colab Notebooks/Deep Learning Projects/Recurrent Neural Networks/LSTM - Avocado price/scalers/feature_min_max_scaler\", compress=True)"
      ],
      "execution_count": 153,
      "outputs": [
        {
          "output_type": "execute_result",
          "data": {
            "text/plain": [
              "['/content/drive/MyDrive/Data Science, Machine Learning/Colab Notebooks/Deep Learning Projects/Recurrent Neural Networks/LSTM - Avocado price/scalers/feature_min_max_scaler']"
            ]
          },
          "metadata": {
            "tags": []
          },
          "execution_count": 153
        }
      ]
    },
    {
      "cell_type": "code",
      "metadata": {
        "colab": {
          "base_uri": "https://localhost:8080/"
        },
        "id": "YobKVT76-8gC",
        "outputId": "be62a939-8c68-4669-d826-a01b8a137274"
      },
      "source": [
        "df_array[0]"
      ],
      "execution_count": 154,
      "outputs": [
        {
          "output_type": "execute_result",
          "data": {
            "text/plain": [
              "array([ 1.        , -1.        , -1.        , -1.        , -1.        ,\n",
              "       -1.        , -1.        , -1.        , -1.        , -1.        ,\n",
              "       -1.        , -1.        , -1.        , -1.        , -1.        ,\n",
              "       -1.        , -1.        , -1.        , -1.        , -1.        ,\n",
              "       -1.        , -1.        , -1.        , -1.        , -1.        ,\n",
              "       -1.        , -1.        , -1.        , -1.        , -1.        ,\n",
              "       -1.        , -1.        , -1.        , -1.        , -1.        ,\n",
              "       -1.        , -1.        , -1.        , -1.        , -1.        ,\n",
              "       -1.        , -1.        , -1.        , -1.        , -1.        ,\n",
              "       -1.        , -1.        , -1.        , -1.        , -1.        ,\n",
              "       -1.        , -1.        , -1.        , -1.        , -0.39285714,\n",
              "       -0.99794732, -0.99990883, -0.99467969, -0.99996217, -0.99910217,\n",
              "       -0.9987144 , -0.99996739, -1.        , -1.        ])"
            ]
          },
          "metadata": {
            "tags": []
          },
          "execution_count": 154
        }
      ]
    },
    {
      "cell_type": "code",
      "metadata": {
        "colab": {
          "base_uri": "https://localhost:8080/"
        },
        "id": "BHphCn05Xi4w",
        "outputId": "c890c208-b07c-4115-f1ba-25cc55f271ae"
      },
      "source": [
        "target = np.array(target)\n",
        "target = target_scaler.fit_transform(target.reshape(-1,1))\n",
        "joblib.dump(target_scaler, \"/content/drive/MyDrive/Data Science, Machine Learning/Colab Notebooks/Deep Learning Projects/Recurrent Neural Networks/LSTM - Avocado price/scalers/target_min_max_scaler\", compress=True)"
      ],
      "execution_count": 155,
      "outputs": [
        {
          "output_type": "execute_result",
          "data": {
            "text/plain": [
              "['/content/drive/MyDrive/Data Science, Machine Learning/Colab Notebooks/Deep Learning Projects/Recurrent Neural Networks/LSTM - Avocado price/scalers/target_min_max_scaler']"
            ]
          },
          "metadata": {
            "tags": []
          },
          "execution_count": 155
        }
      ]
    },
    {
      "cell_type": "code",
      "metadata": {
        "colab": {
          "base_uri": "https://localhost:8080/"
        },
        "id": "sYWwzE9cwKbo",
        "outputId": "e6331f93-9381-4f1b-d179-259d93712469"
      },
      "source": [
        "target[0], target.shape"
      ],
      "execution_count": 156,
      "outputs": [
        {
          "output_type": "execute_result",
          "data": {
            "text/plain": [
              "(array([-0.36654804]), (18249, 1))"
            ]
          },
          "metadata": {
            "tags": []
          },
          "execution_count": 156
        }
      ]
    },
    {
      "cell_type": "markdown",
      "metadata": {
        "id": "FBXBPBb5_kAk"
      },
      "source": [
        "###Add target data to training set"
      ]
    },
    {
      "cell_type": "code",
      "metadata": {
        "colab": {
          "base_uri": "https://localhost:8080/"
        },
        "id": "0LNSA9Z6_pFM",
        "outputId": "a9459334-2911-4059-ed58-83b244bf4adf"
      },
      "source": [
        "df_array[0], target[0]"
      ],
      "execution_count": 157,
      "outputs": [
        {
          "output_type": "execute_result",
          "data": {
            "text/plain": [
              "(array([ 1.        , -1.        , -1.        , -1.        , -1.        ,\n",
              "        -1.        , -1.        , -1.        , -1.        , -1.        ,\n",
              "        -1.        , -1.        , -1.        , -1.        , -1.        ,\n",
              "        -1.        , -1.        , -1.        , -1.        , -1.        ,\n",
              "        -1.        , -1.        , -1.        , -1.        , -1.        ,\n",
              "        -1.        , -1.        , -1.        , -1.        , -1.        ,\n",
              "        -1.        , -1.        , -1.        , -1.        , -1.        ,\n",
              "        -1.        , -1.        , -1.        , -1.        , -1.        ,\n",
              "        -1.        , -1.        , -1.        , -1.        , -1.        ,\n",
              "        -1.        , -1.        , -1.        , -1.        , -1.        ,\n",
              "        -1.        , -1.        , -1.        , -1.        , -0.39285714,\n",
              "        -0.99794732, -0.99990883, -0.99467969, -0.99996217, -0.99910217,\n",
              "        -0.9987144 , -0.99996739, -1.        , -1.        ]),\n",
              " array([-0.36654804]))"
            ]
          },
          "metadata": {
            "tags": []
          },
          "execution_count": 157
        }
      ]
    },
    {
      "cell_type": "code",
      "metadata": {
        "colab": {
          "base_uri": "https://localhost:8080/"
        },
        "id": "3kykF0w8_4L9",
        "outputId": "d9a8b4e9-f512-4de2-f286-a6796a1c7511"
      },
      "source": [
        "df_array.shape, target.shape"
      ],
      "execution_count": 158,
      "outputs": [
        {
          "output_type": "execute_result",
          "data": {
            "text/plain": [
              "((18249, 64), (18249, 1))"
            ]
          },
          "metadata": {
            "tags": []
          },
          "execution_count": 158
        }
      ]
    },
    {
      "cell_type": "code",
      "metadata": {
        "id": "lxtd3qtNBFpL"
      },
      "source": [
        "temp = pd.DataFrame(df_array)\n",
        "temp[64] = target[:,0]\n",
        "training_set_scaled = np.array(temp)"
      ],
      "execution_count": 159,
      "outputs": []
    },
    {
      "cell_type": "markdown",
      "metadata": {
        "id": "zQuC5pB2hgz_"
      },
      "source": [
        "#Split training data into X and y with timestep = 60\n",
        "\n",
        "X will hold alle the samples in a vektor. Each of these samples is a vektor of the 60 elements. Each of these elements holds the feature regarding that specific element.\n",
        "\n",
        "Because of this struktur, X_train wil have a shape of (15452, 60, 65) and y_train will have a shape of (15452,).\n",
        "\n",
        "If we have a sample from X: X_train[1,59,55], then the corrosponding y-value will be y[0]."
      ]
    },
    {
      "cell_type": "code",
      "metadata": {
        "id": "AagzyaFHhkmT"
      },
      "source": [
        "X = []\n",
        "y = []\n",
        "\n",
        "for i in range(60, len(training_set_scaled)):\n",
        "  X.append(training_set_scaled[i-60:i,:])\n",
        "  y.append(training_set_scaled[i,55])\n"
      ],
      "execution_count": 160,
      "outputs": []
    },
    {
      "cell_type": "code",
      "metadata": {
        "id": "cZ7bAEq6iCR8"
      },
      "source": [
        "X = np.array(X_train)\n",
        "y = np.array(y_train)"
      ],
      "execution_count": 161,
      "outputs": []
    },
    {
      "cell_type": "code",
      "metadata": {
        "colab": {
          "base_uri": "https://localhost:8080/"
        },
        "id": "5AWzO32Fyqp9",
        "outputId": "7175298b-5bed-426b-9b02-8e6393301f4c"
      },
      "source": [
        "X[1,59,55]"
      ],
      "execution_count": 162,
      "outputs": [
        {
          "output_type": "execute_result",
          "data": {
            "text/plain": [
              "-0.9865930593418827"
            ]
          },
          "metadata": {
            "tags": []
          },
          "execution_count": 162
        }
      ]
    },
    {
      "cell_type": "code",
      "metadata": {
        "colab": {
          "base_uri": "https://localhost:8080/"
        },
        "id": "lKxG2-Zayx3p",
        "outputId": "d9fc1479-ba4c-4a32-ff35-a7793ba97600"
      },
      "source": [
        "y[0]"
      ],
      "execution_count": 163,
      "outputs": [
        {
          "output_type": "execute_result",
          "data": {
            "text/plain": [
              "-0.9865930593418827"
            ]
          },
          "metadata": {
            "tags": []
          },
          "execution_count": 163
        }
      ]
    },
    {
      "cell_type": "code",
      "metadata": {
        "colab": {
          "base_uri": "https://localhost:8080/"
        },
        "id": "hII0-_Nayyio",
        "outputId": "25580c61-a79b-49a6-cbe9-e64891351207"
      },
      "source": [
        "X.shape"
      ],
      "execution_count": 164,
      "outputs": [
        {
          "output_type": "execute_result",
          "data": {
            "text/plain": [
              "(15452, 60, 65)"
            ]
          },
          "metadata": {
            "tags": []
          },
          "execution_count": 164
        }
      ]
    },
    {
      "cell_type": "code",
      "metadata": {
        "colab": {
          "base_uri": "https://localhost:8080/"
        },
        "id": "E-79WMcP2CU4",
        "outputId": "2f3160f2-b4e5-4785-8863-10b16fcf4bfb"
      },
      "source": [
        "y.shape"
      ],
      "execution_count": 165,
      "outputs": [
        {
          "output_type": "execute_result",
          "data": {
            "text/plain": [
              "(15452,)"
            ]
          },
          "metadata": {
            "tags": []
          },
          "execution_count": 165
        }
      ]
    },
    {
      "cell_type": "code",
      "metadata": {
        "id": "qA9ZrHEp_Ru1"
      },
      "source": [
        "from sklearn.model_selection import train_test_split"
      ],
      "execution_count": 166,
      "outputs": []
    },
    {
      "cell_type": "code",
      "metadata": {
        "id": "Zs4FWT_x_N8k"
      },
      "source": [
        "#Create test and validation set\n",
        "X_train, X_test, y_train, y_test = train_test_split(X,y, test_size=0.2)"
      ],
      "execution_count": 167,
      "outputs": []
    },
    {
      "cell_type": "code",
      "metadata": {
        "id": "r00kHaxq_cBV"
      },
      "source": [
        "validation = (X_test, y_test)"
      ],
      "execution_count": 168,
      "outputs": []
    },
    {
      "cell_type": "markdown",
      "metadata": {
        "id": "QcqLWFun2DGw"
      },
      "source": [
        "#Modelling"
      ]
    },
    {
      "cell_type": "markdown",
      "metadata": {
        "id": "AWUtMsBt3Rep"
      },
      "source": [
        "##Create, compile and train the RNN"
      ]
    },
    {
      "cell_type": "code",
      "metadata": {
        "id": "tnLa5Iag25-t"
      },
      "source": [
        "from keras.models import Sequential\n",
        "from keras.layers import Dense, LSTM, Dropout"
      ],
      "execution_count": 171,
      "outputs": []
    },
    {
      "cell_type": "code",
      "metadata": {
        "id": "Atx8Ex5K2lTp"
      },
      "source": [
        "rnn = Sequential([\n",
        "                  LSTM(units=50, return_sequences=True, input_shape=(X_train.shape[1],65)), #X_train.shape[1] = 60. The 60 previous samples, \n",
        "                                                                                            #65 for 65 features\n",
        "                                                                                            #This makes the shape: (60,65)\n",
        "                  Dropout(0.4),\n",
        "                  LSTM(units=50, return_sequences=True),                                                                          \n",
        "                  Dropout(0.4),\n",
        "                  LSTM(units=50, return_sequences=True),\n",
        "                  Dropout(0.4),\n",
        "                  LSTM(units=50, return_sequences=True),\n",
        "                  Dropout(0.4),\n",
        "                  LSTM(units=50),\n",
        "                  Dropout(0.4),\n",
        "                  Dense(units=1)\n",
        "])"
      ],
      "execution_count": 172,
      "outputs": []
    },
    {
      "cell_type": "code",
      "metadata": {
        "id": "dQRWKVzb3sKw"
      },
      "source": [
        "rnn.compile(optimizer=\"adam\", loss=\"mean_squared_error\",metrics=[\"mean_absolute_error\"])"
      ],
      "execution_count": 173,
      "outputs": []
    },
    {
      "cell_type": "code",
      "metadata": {
        "colab": {
          "base_uri": "https://localhost:8080/"
        },
        "id": "To54co2F4e1S",
        "outputId": "00234b2a-d855-4fa9-d90e-746a36c5a2fc"
      },
      "source": [
        "rnn.fit(X_train, y_train, validation_data=validation, epochs=10, batch_size=32)"
      ],
      "execution_count": 174,
      "outputs": [
        {
          "output_type": "stream",
          "text": [
            "Epoch 1/10\n",
            "387/387 [==============================] - 76s 175ms/step - loss: 0.0616 - mean_absolute_error: 0.1668 - val_loss: 0.0113 - val_mean_absolute_error: 0.0672\n",
            "Epoch 2/10\n",
            "387/387 [==============================] - 69s 177ms/step - loss: 0.0190 - mean_absolute_error: 0.1015 - val_loss: 0.0054 - val_mean_absolute_error: 0.0357\n",
            "Epoch 3/10\n",
            "387/387 [==============================] - 68s 177ms/step - loss: 0.0148 - mean_absolute_error: 0.0890 - val_loss: 0.0041 - val_mean_absolute_error: 0.0251\n",
            "Epoch 4/10\n",
            "387/387 [==============================] - 67s 174ms/step - loss: 0.0108 - mean_absolute_error: 0.0771 - val_loss: 0.0040 - val_mean_absolute_error: 0.0205\n",
            "Epoch 5/10\n",
            "387/387 [==============================] - 67s 174ms/step - loss: 0.0098 - mean_absolute_error: 0.0718 - val_loss: 0.0030 - val_mean_absolute_error: 0.0203\n",
            "Epoch 6/10\n",
            "387/387 [==============================] - 68s 176ms/step - loss: 0.0077 - mean_absolute_error: 0.0620 - val_loss: 0.0027 - val_mean_absolute_error: 0.0190\n",
            "Epoch 7/10\n",
            "387/387 [==============================] - 68s 176ms/step - loss: 0.0073 - mean_absolute_error: 0.0572 - val_loss: 0.0029 - val_mean_absolute_error: 0.0186\n",
            "Epoch 8/10\n",
            "387/387 [==============================] - 70s 181ms/step - loss: 0.0055 - mean_absolute_error: 0.0482 - val_loss: 0.0021 - val_mean_absolute_error: 0.0149\n",
            "Epoch 9/10\n",
            "387/387 [==============================] - 69s 178ms/step - loss: 0.0041 - mean_absolute_error: 0.0403 - val_loss: 0.0025 - val_mean_absolute_error: 0.0166\n",
            "Epoch 10/10\n",
            "387/387 [==============================] - 70s 180ms/step - loss: 0.0033 - mean_absolute_error: 0.0353 - val_loss: 0.0021 - val_mean_absolute_error: 0.0132\n"
          ],
          "name": "stdout"
        },
        {
          "output_type": "execute_result",
          "data": {
            "text/plain": [
              "<tensorflow.python.keras.callbacks.History at 0x7f0c9bcd2350>"
            ]
          },
          "metadata": {
            "tags": []
          },
          "execution_count": 174
        }
      ]
    },
    {
      "cell_type": "code",
      "metadata": {
        "id": "LotyE5Q74jNQ",
        "colab": {
          "base_uri": "https://localhost:8080/"
        },
        "outputId": "6a5b5e44-cc45-43ef-bcf6-8b1052352ad4"
      },
      "source": [
        "rnn.save(\"/content/drive/MyDrive/Data Science, Machine Learning/Colab Notebooks/Deep Learning Projects/Recurrent Neural Networks/LSTM - Avocado price/models/baseline_model\")"
      ],
      "execution_count": 175,
      "outputs": [
        {
          "output_type": "stream",
          "text": [
            "WARNING:absl:Found untraced functions such as lstm_cell_5_layer_call_and_return_conditional_losses, lstm_cell_5_layer_call_fn, lstm_cell_6_layer_call_and_return_conditional_losses, lstm_cell_6_layer_call_fn, lstm_cell_7_layer_call_and_return_conditional_losses while saving (showing 5 of 25). These functions will not be directly callable after loading.\n",
            "WARNING:absl:Found untraced functions such as lstm_cell_5_layer_call_and_return_conditional_losses, lstm_cell_5_layer_call_fn, lstm_cell_6_layer_call_and_return_conditional_losses, lstm_cell_6_layer_call_fn, lstm_cell_7_layer_call_and_return_conditional_losses while saving (showing 5 of 25). These functions will not be directly callable after loading.\n"
          ],
          "name": "stderr"
        },
        {
          "output_type": "stream",
          "text": [
            "INFO:tensorflow:Assets written to: /content/drive/MyDrive/Data Science, Machine Learning/Colab Notebooks/Deep Learning Projects/Recurrent Neural Networks/LSTM - Avocado price/models/baseline_model/assets\n"
          ],
          "name": "stdout"
        },
        {
          "output_type": "stream",
          "text": [
            "INFO:tensorflow:Assets written to: /content/drive/MyDrive/Data Science, Machine Learning/Colab Notebooks/Deep Learning Projects/Recurrent Neural Networks/LSTM - Avocado price/models/baseline_model/assets\n"
          ],
          "name": "stderr"
        }
      ]
    }
  ]
}